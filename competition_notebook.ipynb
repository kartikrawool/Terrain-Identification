{
  "nbformat": 4,
  "nbformat_minor": 0,
  "metadata": {
    "colab": {
      "provenance": []
    },
    "kernelspec": {
      "name": "python3",
      "display_name": "Python 3"
    },
    "language_info": {
      "name": "python"
    },
    "accelerator": "GPU",
    "gpuClass": "standard"
  },
  "cells": [
    {
      "cell_type": "markdown",
      "source": [
        "# [Team 117] Proj-C: Terrain Identification from Time Series Data\n",
        "\n",
        "### Kartik Rawool (khrawool)\n",
        "### Kartiki Bhandakkar (kbhanda3)\n",
        "### Subodh Gujar (sgujar)"
      ],
      "metadata": {
        "id": "DeQuyR86HYz4"
      }
    },
    {
      "cell_type": "markdown",
      "source": [
        "## Connecting to Google Drive"
      ],
      "metadata": {
        "id": "zJleLDwPJk_B"
      }
    },
    {
      "cell_type": "code",
      "execution_count": null,
      "metadata": {
        "colab": {
          "base_uri": "https://localhost:8080/"
        },
        "id": "KQZb_FJdpY-q",
        "outputId": "e7f7cf97-b746-49cd-b5d0-2b971b2dac82"
      },
      "outputs": [
        {
          "output_type": "stream",
          "name": "stdout",
          "text": [
            "Mounted at /content/drive\n"
          ]
        }
      ],
      "source": [
        "from google.colab import drive\n",
        "drive.mount('/content/drive')\n"
      ]
    },
    {
      "cell_type": "markdown",
      "source": [
        "## Checking Configuration"
      ],
      "metadata": {
        "id": "RuMV3TTZJwxZ"
      }
    },
    {
      "cell_type": "code",
      "source": [
        "!nvidia-smi"
      ],
      "metadata": {
        "colab": {
          "base_uri": "https://localhost:8080/"
        },
        "id": "A8Num2XWJVc4",
        "outputId": "d8e3247a-6036-474d-c7f2-c66d544bce1a"
      },
      "execution_count": null,
      "outputs": [
        {
          "output_type": "stream",
          "name": "stdout",
          "text": [
            "Mon Apr 24 02:03:39 2023       \n",
            "+-----------------------------------------------------------------------------+\n",
            "| NVIDIA-SMI 525.85.12    Driver Version: 525.85.12    CUDA Version: 12.0     |\n",
            "|-------------------------------+----------------------+----------------------+\n",
            "| GPU  Name        Persistence-M| Bus-Id        Disp.A | Volatile Uncorr. ECC |\n",
            "| Fan  Temp  Perf  Pwr:Usage/Cap|         Memory-Usage | GPU-Util  Compute M. |\n",
            "|                               |                      |               MIG M. |\n",
            "|===============================+======================+======================|\n",
            "|   0  Tesla T4            Off  | 00000000:00:04.0 Off |                    0 |\n",
            "| N/A   38C    P8     9W /  70W |      0MiB / 15360MiB |      0%      Default |\n",
            "|                               |                      |                  N/A |\n",
            "+-------------------------------+----------------------+----------------------+\n",
            "                                                                               \n",
            "+-----------------------------------------------------------------------------+\n",
            "| Processes:                                                                  |\n",
            "|  GPU   GI   CI        PID   Type   Process name                  GPU Memory |\n",
            "|        ID   ID                                                   Usage      |\n",
            "|=============================================================================|\n",
            "|  No running processes found                                                 |\n",
            "+-----------------------------------------------------------------------------+\n"
          ]
        }
      ]
    },
    {
      "cell_type": "markdown",
      "source": [
        "##Importing libraries"
      ],
      "metadata": {
        "id": "ta8efMVbN6s7"
      }
    },
    {
      "cell_type": "code",
      "source": [
        "\n",
        "import pandas as pd\n",
        "import numpy as np\n",
        "from sklearn.preprocessing import StandardScaler\n",
        "from scipy import stats as st\n",
        "from sklearn.preprocessing import OneHotEncoder\n",
        "from sklearn.metrics import confusion_matrix"
      ],
      "metadata": {
        "id": "ZZLEAlHOsPzk"
      },
      "execution_count": null,
      "outputs": []
    },
    {
      "cell_type": "code",
      "source": [
        "#read processed data\n",
        "data_path = \"/content/drive/MyDrive/ECE542_sp2022_Project_TerrainRecognition/new_data/TrainingData/session_0{}_x.csv\"\n",
        "y_path = \"/content/drive/MyDrive/ECE542_sp2022_Project_TerrainRecognition/new_data/TrainingData/session_0{}_y.csv\"\n"
      ],
      "metadata": {
        "id": "xZQ5p-VppqmO"
      },
      "execution_count": null,
      "outputs": []
    },
    {
      "cell_type": "code",
      "source": [],
      "metadata": {
        "id": "EivQ80UTsTC-"
      },
      "execution_count": null,
      "outputs": []
    },
    {
      "cell_type": "markdown",
      "source": [
        "### Loading all train data and validation data"
      ],
      "metadata": {
        "id": "pB1Moo9qOJAC"
      }
    },
    {
      "cell_type": "code",
      "execution_count": null,
      "metadata": {
        "id": "Owiik4ZTshz8"
      },
      "outputs": [],
      "source": [
        "train_x = []\n",
        "train_y = []\n",
        "\n",
        "for i in range(27):\n",
        "    train_x.append(pd.read_csv(data_path.format(i), header=None))\n",
        "    train_y.append(pd.read_csv(y_path.format(i), header=None))\n",
        "\n",
        "# val_x = []\n",
        "# val_y = []\n",
        "# for i in range(25,27):\n",
        "#     val_x.append(pd.read_csv(data_path.format(i), header=None))\n",
        "#     val_y.append(pd.read_csv(y_path.format(i), header=None))\n",
        "\n",
        "test_x = []\n",
        "test_y = []\n",
        "for i in range(27,29):\n",
        "    test_x.append(pd.read_csv(data_path.format(i), header=None))\n",
        "    test_y.append(pd.read_csv(y_path.format(i), header=None))\n"
      ]
    },
    {
      "cell_type": "code",
      "source": [
        "sub1_x = []\n",
        "sub1_y = []\n",
        "for i in range(0,1):\n",
        "    sub1_x.append(pd.read_csv(data_path.format(i), header=None))\n",
        "    sub1_y.append(pd.read_csv(y_path.format(i), header=None))"
      ],
      "metadata": {
        "id": "ZeF9jeXtLei1"
      },
      "execution_count": null,
      "outputs": []
    },
    {
      "cell_type": "markdown",
      "source": [
        "### Loading test data"
      ],
      "metadata": {
        "id": "x-PvY0jsbMBM"
      }
    },
    {
      "cell_type": "code",
      "execution_count": null,
      "metadata": {
        "id": "NBfnrCwbshz8"
      },
      "outputs": [],
      "source": [
        "test_x_path = \"/content/drive/MyDrive/ECE542_sp2022_Project_TerrainRecognition/new_data/TestData/session_{}_x.csv\"\n",
        "test_y_path = \"/content/drive/MyDrive/ECE542_sp2022_Project_TerrainRecognition/new_data/TestData/session_{}_y.csv\"\n",
        "user = ['009', '010', '011', '012']"
      ]
    },
    {
      "cell_type": "code",
      "execution_count": null,
      "metadata": {
        "id": "ObapElEHshz8"
      },
      "outputs": [],
      "source": [
        "TEST_DATA= []\n",
        "TEST_TIME = []\n",
        "\n",
        "for i in range(4):\n",
        "    TEST_DATA.append(pd.read_csv(test_x_path.format(user[i]), header=None))\n",
        "    TEST_TIME.append(pd.read_csv(test_y_path.format(user[i]), header=None))"
      ]
    },
    {
      "cell_type": "code",
      "source": [
        "#Test rows\n",
        "for i in range(0,4):\n",
        "  print(len(TEST_DATA[i].index))"
      ],
      "metadata": {
        "colab": {
          "base_uri": "https://localhost:8080/"
        },
        "id": "K_Y9tV4Asb9w",
        "outputId": "b41c52fc-1a85-4258-e653-27d26c935f98"
      },
      "execution_count": null,
      "outputs": [
        {
          "output_type": "stream",
          "name": "stdout",
          "text": [
            "37991\n",
            "49081\n",
            "51761\n",
            "45319\n"
          ]
        }
      ]
    },
    {
      "cell_type": "code",
      "source": [
        "# for i in range(29):\n",
        "#   print(len(data_x[i].index))"
      ],
      "metadata": {
        "id": "e8M2Z859vy-y"
      },
      "execution_count": null,
      "outputs": []
    },
    {
      "cell_type": "markdown",
      "source": [
        "## Upsampling of data\n",
        "\n",
        "As X is generated based on 40Hz and output is generated based on 10Hz, we need to upsample Y so that number of X data points matches with Y outputs."
      ],
      "metadata": {
        "id": "zK18iOj7bSrb"
      }
    },
    {
      "cell_type": "code",
      "source": [
        "def upsample_data(data_x, data_y):\n",
        "  combined_x_t = []\n",
        "  combined_y_t = []\n",
        "  for x, y in zip(data_x, data_y):\n",
        "      counter = 0\n",
        "      for i in range(len(x)):\n",
        "          if counter == len(y)-1:\n",
        "              combined_x_t.append(x.iloc[i, :6])\n",
        "              combined_y_t.append(y.iloc[counter,0])\n",
        "              continue\n",
        "          if abs(x.iloc[i,6] - y.iloc[counter, 1]) < abs(x.iloc[i,6] - y.iloc[counter+1, 1]):\n",
        "              combined_x_t.append(x.iloc[i, :6])\n",
        "              combined_y_t.append(y.iloc[counter,0])\n",
        "\n",
        "          else:\n",
        "              counter += 1\n",
        "              combined_x_t.append(x.iloc[i, :6])\n",
        "              combined_y_t.append(y.iloc[counter,0])\n",
        "\n",
        "  return combined_x_t, combined_y_t\n"
      ],
      "metadata": {
        "id": "0kWMOYb0650B"
      },
      "execution_count": null,
      "outputs": []
    },
    {
      "cell_type": "markdown",
      "source": [
        "### Normalizing data"
      ],
      "metadata": {
        "id": "MsstqXObbwLm"
      }
    },
    {
      "cell_type": "code",
      "source": [
        "def scale_data(data):\n",
        "  scalar = StandardScaler()\n",
        "  scalar = scalar.fit(data)\n",
        "  data.loc[:,:] = scalar.transform(data.to_numpy())\n",
        "  return data"
      ],
      "metadata": {
        "id": "PXew0IPcCeiV"
      },
      "execution_count": null,
      "outputs": []
    },
    {
      "cell_type": "markdown",
      "source": [
        "## Windowing data\n",
        " As this is time series data, we need some values and outputs of previous datapoints. We are considering 80 samples i.e. 2 seconds before given data point."
      ],
      "metadata": {
        "id": "hr2q5jplb0Jr"
      }
    },
    {
      "cell_type": "code",
      "source": [
        "def get_windowed_data(data_x, data_y, sequence_len, step_size):\n",
        "  X, y = upsample_data(data_x, data_y)\n",
        "  X = pd.DataFrame(X).reset_index(drop=True)\n",
        "  y = pd.DataFrame(y)\n",
        "  X = scale_data(X)\n",
        "  windowed_X = []\n",
        "  windowed_y = []\n",
        "  for i in range(0, len(X) - sequence_len, step_size):\n",
        "    values = X.iloc[i:(i+sequence_len)].to_numpy()\n",
        "    windowed_X.append(values)\n",
        "    labels = y.iloc[i:(i+sequence_len)].to_numpy()\n",
        "    windowed_y.append(st.mode(labels)[0][0][0])\n",
        "  \n",
        "  return np.array(windowed_X), np.array(windowed_y)\n"
      ],
      "metadata": {
        "id": "B-SDQc6OHy9T"
      },
      "execution_count": null,
      "outputs": []
    },
    {
      "cell_type": "markdown",
      "source": [
        "## One Hot Encoding for Y"
      ],
      "metadata": {
        "id": "4DaCSyc-cOCv"
      }
    },
    {
      "cell_type": "code",
      "source": [
        "def one_hot_encode_data(label):\n",
        "  encoder = OneHotEncoder()\n",
        "  one_hot_data = encoder.fit_transform(np.array(label).reshape(-1, 1)).toarray()\n",
        "  return one_hot_data\n"
      ],
      "metadata": {
        "id": "rjlakkwRR1iv"
      },
      "execution_count": null,
      "outputs": []
    },
    {
      "cell_type": "code",
      "source": [
        "#final_X, final_y = get_windowed_data(sub1_x, sub1_y, 10, 1)"
      ],
      "metadata": {
        "id": "SwrYDIagLrvx"
      },
      "execution_count": null,
      "outputs": []
    },
    {
      "cell_type": "code",
      "source": [
        "X_train, y_train = get_windowed_data(train_x, train_y, 80, 1)"
      ],
      "metadata": {
        "colab": {
          "base_uri": "https://localhost:8080/"
        },
        "id": "1mnfC6KueIuj",
        "outputId": "ec5767d9-91f2-46b3-9961-144c8d52c76f"
      },
      "execution_count": null,
      "outputs": [
        {
          "output_type": "stream",
          "name": "stderr",
          "text": [
            "<ipython-input-14-6f2c74440481>:12: FutureWarning: Unlike other reduction functions (e.g. `skew`, `kurtosis`), the default behavior of `mode` typically preserves the axis it acts along. In SciPy 1.11.0, this behavior will change: the default value of `keepdims` will become False, the `axis` over which the statistic is taken will be eliminated, and the value None will no longer be accepted. Set `keepdims` to True or False to avoid this warning.\n",
            "  windowed_y.append(st.mode(labels)[0][0][0])\n"
          ]
        }
      ]
    },
    {
      "cell_type": "code",
      "source": [
        "X_test, y_test = get_windowed_data(test_x, test_y, 80, 1)"
      ],
      "metadata": {
        "colab": {
          "base_uri": "https://localhost:8080/"
        },
        "id": "-LquxV6ZeIf_",
        "outputId": "35907133-2c4e-491b-f923-2304aefcc889"
      },
      "execution_count": null,
      "outputs": [
        {
          "output_type": "stream",
          "name": "stderr",
          "text": [
            "<ipython-input-14-6f2c74440481>:12: FutureWarning: Unlike other reduction functions (e.g. `skew`, `kurtosis`), the default behavior of `mode` typically preserves the axis it acts along. In SciPy 1.11.0, this behavior will change: the default value of `keepdims` will become False, the `axis` over which the statistic is taken will be eliminated, and the value None will no longer be accepted. Set `keepdims` to True or False to avoid this warning.\n",
            "  windowed_y.append(st.mode(labels)[0][0][0])\n"
          ]
        }
      ]
    },
    {
      "cell_type": "code",
      "source": [
        "len(test_y[0][0])"
      ],
      "metadata": {
        "colab": {
          "base_uri": "https://localhost:8080/"
        },
        "id": "Kgi-pnSr5qcL",
        "outputId": "c93f9d38-dfd5-41fa-a828-9e34fada1233"
      },
      "execution_count": null,
      "outputs": [
        {
          "output_type": "execute_result",
          "data": {
            "text/plain": [
              "9860"
            ]
          },
          "metadata": {},
          "execution_count": 20
        }
      ]
    },
    {
      "cell_type": "code",
      "source": [
        "y_train = one_hot_encode_data(y_train)\n",
        "y_test = one_hot_encode_data(y_test)"
      ],
      "metadata": {
        "id": "RmKEOHlUed3I"
      },
      "execution_count": null,
      "outputs": []
    },
    {
      "cell_type": "markdown",
      "source": [
        "## Ploting graph of loss function"
      ],
      "metadata": {
        "id": "_6g3KX3lcT9E"
      }
    },
    {
      "cell_type": "code",
      "source": [
        "import matplotlib.pyplot as plt\n",
        "def plot_history(history):\n",
        "    # plot loss\n",
        "    plt.title('Loss')\n",
        "    plt.plot(history.history['loss'], color='blue', label='train')\n",
        "    plt.plot(history.history['val_loss'], color='red', label='validation')\n",
        "    plt.ylabel('Loss')\n",
        "    plt.xlabel('Epoch')\n",
        "    plt.legend(['Train', 'Validation'])\n",
        "    plt.show()\n",
        "    \n",
        "    # plot accuracy\n",
        "    plt.title('Accuracy')\n",
        "    plt.plot(history.history['accuracy'], color='blue', label='train')\n",
        "    plt.plot(history.history['val_accuracy'], color='red', label='validation')\n",
        "    plt.ylabel('Accuracy')\n",
        "    plt.xlabel('Epoch')\n",
        "    plt.legend(['Train', 'Validation'])\n",
        "    plt.show()"
      ],
      "metadata": {
        "id": "Il-1dG2q5Yhj"
      },
      "execution_count": null,
      "outputs": []
    },
    {
      "cell_type": "markdown",
      "source": [
        "## Importing keras libraries"
      ],
      "metadata": {
        "id": "mJ7QDWzfcY-B"
      }
    },
    {
      "cell_type": "code",
      "source": [
        "import keras\n",
        "from keras.layers import LSTM, Dropout, Dense, Bidirectional\n",
        "from keras.optimizers import Adam\n",
        "import tensorflow as tf"
      ],
      "metadata": {
        "id": "oAgIoGXJV7ht"
      },
      "execution_count": null,
      "outputs": []
    },
    {
      "cell_type": "code",
      "source": [
        "sequence_len = 80"
      ],
      "metadata": {
        "id": "RVwZU78JfMtS"
      },
      "execution_count": null,
      "outputs": []
    },
    {
      "cell_type": "code",
      "source": [
        "y_train_label = []\n",
        "for i in range(0,len(y_train)):\n",
        "  y_train_label.append(np.argmax(y_train[i]))"
      ],
      "metadata": {
        "id": "F8QQufDRJ76Q"
      },
      "execution_count": null,
      "outputs": []
    },
    {
      "cell_type": "markdown",
      "source": [
        "## Class weight\n",
        "Since there is class imbalance in given dataset, we need to use weighted class values for prediction."
      ],
      "metadata": {
        "id": "3N_CktRgcnzc"
      }
    },
    {
      "cell_type": "code",
      "source": [
        "from sklearn.utils import class_weight\n",
        "import numpy as np\n",
        "\n",
        "class_weights = class_weight.compute_class_weight(class_weight = 'balanced', classes = np.unique(y_train_label), y = y_train_label)\n",
        "\n",
        "class_weights_dict = dict(enumerate(class_weights))"
      ],
      "metadata": {
        "id": "2GgRyEGSJ91b"
      },
      "execution_count": null,
      "outputs": []
    },
    {
      "cell_type": "markdown",
      "source": [
        "## Model Architecture"
      ],
      "metadata": {
        "id": "RH95ivVzcy7s"
      }
    },
    {
      "cell_type": "code",
      "source": [
        "# Creating default model\n",
        "model = keras.Sequential()\n",
        "# adding Bidirectional LSTM layer\n",
        "model.add(Bidirectional(LSTM(100,return_sequences=True, input_shape = (sequence_len,6))))\n",
        "#adding dropout with 0.2\n",
        "model.add(Dropout(0.2))\n",
        "#One more layer of LSTM model with dr\n",
        "model.add(LSTM(50, activation=\"relu\"))\n",
        "model.add(Dropout(0.1))\n",
        "model.add(Dense(25, activation=\"relu\"))\n",
        "model.add(Dense(4, activation=\"softmax\"))\n",
        "model.compile(optimizer=Adam(learning_rate=0.01),  loss='categorical_crossentropy', metrics = ['accuracy'])\n",
        "model.build(input_shape = (None,sequence_len,6))\n",
        "model.summary()\n",
        "model.fit(X_train, y_train, batch_size=64, epochs=25, verbose=1, validation_data=(X_test, y_test))"
      ],
      "metadata": {
        "id": "LmXjAgH_KDoy"
      },
      "execution_count": null,
      "outputs": []
    },
    {
      "cell_type": "code",
      "source": [
        "plot_history(model)"
      ],
      "metadata": {
        "id": "APRC0DTZKJ_o"
      },
      "execution_count": null,
      "outputs": []
    },
    {
      "cell_type": "code",
      "source": [
        "model = keras.Sequential()\n",
        "model.add(LSTM(125, input_shape = (sequence_len, 6)))\n",
        "model.add(Dropout(0.5))\n",
        "model.add(Dense(units = 125, activation = 'relu'))\n",
        "model.add(Dense(4, activation = 'softmax'))\n",
        "model.compile(optimizer='adam', loss='categorical_crossentropy', metrics=[keras.metrics.categorical_accuracy])\n",
        "model.summary()"
      ],
      "metadata": {
        "id": "Kd2pLpN0VRZx"
      },
      "execution_count": null,
      "outputs": []
    },
    {
      "cell_type": "code",
      "source": [
        "#model.fit(X_train, y_train, batch_size=64,class_weight=class_weights_dict, epochs=1)"
      ],
      "metadata": {
        "id": "8YAWs1qBaaam"
      },
      "execution_count": null,
      "outputs": []
    },
    {
      "cell_type": "code",
      "source": [
        "# model.save('/content/drive/MyDrive/ECE542_sp2022_Project_TerrainRecognition/lstm_c1')"
      ],
      "metadata": {
        "colab": {
          "base_uri": "https://localhost:8080/"
        },
        "id": "Q0NMjI6iuvoJ",
        "outputId": "34fcaf79-93d9-4b31-c947-8a9ee9ce54bb"
      },
      "execution_count": null,
      "outputs": [
        {
          "output_type": "stream",
          "name": "stderr",
          "text": [
            "WARNING:absl:Found untraced functions such as _update_step_xla, lstm_cell_layer_call_fn, lstm_cell_layer_call_and_return_conditional_losses while saving (showing 3 of 3). These functions will not be directly callable after loading.\n"
          ]
        }
      ]
    },
    {
      "cell_type": "code",
      "source": [
        "#saving model\n",
        "model.save('lstm_v4.keras')"
      ],
      "metadata": {
        "id": "Mz8kYeUrKsEw"
      },
      "execution_count": null,
      "outputs": []
    },
    {
      "cell_type": "code",
      "source": [
        "#loading keras model\n",
        "model = keras.models.load_model('lstm_80.keras')"
      ],
      "metadata": {
        "id": "w_IoW8Ieu-Sg"
      },
      "execution_count": null,
      "outputs": []
    },
    {
      "cell_type": "code",
      "source": [
        "model.evaluate(X_test, y_test)"
      ],
      "metadata": {
        "colab": {
          "base_uri": "https://localhost:8080/"
        },
        "id": "sKcKpmj6arQl",
        "outputId": "706a4b77-1320-4649-d001-38955ee8c78f"
      },
      "execution_count": null,
      "outputs": [
        {
          "output_type": "stream",
          "name": "stdout",
          "text": [
            "2735/2735 [==============================] - 123s 45ms/step - loss: 0.3289 - categorical_accuracy: 0.9222\n"
          ]
        },
        {
          "output_type": "execute_result",
          "data": {
            "text/plain": [
              "[0.32887038588523865, 0.9222258925437927]"
            ]
          },
          "metadata": {},
          "execution_count": 27
        }
      ]
    },
    {
      "cell_type": "code",
      "source": [
        "y_test_prob = model.predict(X_test, verbose=1)"
      ],
      "metadata": {
        "colab": {
          "base_uri": "https://localhost:8080/"
        },
        "id": "kDNKNiTEhs5G",
        "outputId": "28428c02-7064-4519-9e89-62d7298f9b95"
      },
      "execution_count": null,
      "outputs": [
        {
          "output_type": "stream",
          "name": "stdout",
          "text": [
            "2735/2735 [==============================] - 118s 43ms/step\n"
          ]
        }
      ]
    },
    {
      "cell_type": "code",
      "source": [
        "y_test_prob.shape"
      ],
      "metadata": {
        "colab": {
          "base_uri": "https://localhost:8080/"
        },
        "id": "bSqOBKuQjO3w",
        "outputId": "792bfb36-0901-4be0-ddac-0aa8eb8c8efd"
      },
      "execution_count": null,
      "outputs": [
        {
          "output_type": "execute_result",
          "data": {
            "text/plain": [
              "(87497, 4)"
            ]
          },
          "metadata": {},
          "execution_count": 29
        }
      ]
    },
    {
      "cell_type": "code",
      "source": [
        "y_test_prob[0]"
      ],
      "metadata": {
        "colab": {
          "base_uri": "https://localhost:8080/"
        },
        "id": "nHXaC_LQjgSr",
        "outputId": "e0d857a4-b7ad-4d80-a651-bd82a506e95c"
      },
      "execution_count": null,
      "outputs": [
        {
          "output_type": "execute_result",
          "data": {
            "text/plain": [
              "array([9.9982619e-01, 6.2934383e-08, 7.5122807e-06, 1.6609704e-04],\n",
              "      dtype=float32)"
            ]
          },
          "metadata": {},
          "execution_count": 30
        }
      ]
    },
    {
      "cell_type": "code",
      "source": [
        "np.argmax(y_test_prob[40])"
      ],
      "metadata": {
        "colab": {
          "base_uri": "https://localhost:8080/"
        },
        "id": "eUwfDSmpk23d",
        "outputId": "638d9aed-c58b-4a2b-b9ae-011a88e2e482"
      },
      "execution_count": null,
      "outputs": [
        {
          "output_type": "execute_result",
          "data": {
            "text/plain": [
              "0"
            ]
          },
          "metadata": {},
          "execution_count": 31
        }
      ]
    },
    {
      "cell_type": "code",
      "source": [
        "y_test_pred = []\n",
        "end = len(y_test_prob)\n",
        "for i in range(0, end):\n",
        "  y_test_pred.append(np.argmax(y_test_prob[i]))\n"
      ],
      "metadata": {
        "id": "SBSuUSj5lt81"
      },
      "execution_count": null,
      "outputs": []
    },
    {
      "cell_type": "code",
      "source": [],
      "metadata": {
        "id": "--uOCXWMq1do"
      },
      "execution_count": null,
      "outputs": []
    },
    {
      "cell_type": "markdown",
      "source": [
        "## Making Predictions"
      ],
      "metadata": {
        "id": "oKCu96x4SRtH"
      }
    },
    {
      "cell_type": "code",
      "source": [
        "import pandas as pd\n",
        "import numpy as np\n",
        "from sklearn.preprocessing import StandardScaler\n",
        "from scipy import stats as st\n",
        "from sklearn.preprocessing import OneHotEncoder\n",
        "from sklearn.metrics import confusion_matrix\n",
        "import keras\n",
        "from keras.layers import LSTM, Dropout, Dense\n",
        "import tensorflow as tf"
      ],
      "metadata": {
        "id": "oiKICG12xfBe"
      },
      "execution_count": null,
      "outputs": []
    },
    {
      "cell_type": "code",
      "source": [
        "for i in range(0,4):\n",
        "  print(len(TEST_TIME[i].index))"
      ],
      "metadata": {
        "id": "MCpPdUbrLToN"
      },
      "execution_count": null,
      "outputs": []
    },
    {
      "cell_type": "markdown",
      "source": [
        "## Scaling testing Data "
      ],
      "metadata": {
        "id": "NjLGcLz7OccM"
      }
    },
    {
      "cell_type": "code",
      "source": [
        "def scale_data(data):\n",
        "  scalar = StandardScaler()\n",
        "  scalar = scalar.fit(data)\n",
        "  data.loc[:,:] = scalar.transform(data.to_numpy())\n",
        "  return data"
      ],
      "metadata": {
        "id": "X_MlgpVbgLz5"
      },
      "execution_count": null,
      "outputs": []
    },
    {
      "cell_type": "markdown",
      "source": [
        "## Creating window for testing data"
      ],
      "metadata": {
        "id": "MZu5FfSfOzl9"
      }
    },
    {
      "cell_type": "code",
      "source": [
        "def get_windowed_data_test(data_x, sequence_len, step_size):\n",
        "  X = data_x.iloc[:,:6]\n",
        "  X = scale_data(X)\n",
        "  windowed_X = []\n",
        "  for i in range(0, len(X) - sequence_len, step_size):\n",
        "    values = X.iloc[i:(i+sequence_len)].to_numpy()\n",
        "    windowed_X.append(values)  \n",
        "  return np.array(windowed_X)\n"
      ],
      "metadata": {
        "id": "r5apHlN0gLz5"
      },
      "execution_count": null,
      "outputs": []
    },
    {
      "cell_type": "markdown",
      "source": [
        "## Converting probability prediction to label "
      ],
      "metadata": {
        "id": "DlYpLtoyO46w"
      }
    },
    {
      "cell_type": "code",
      "source": [
        "def get_class_labels(y_test_prob):\n",
        "  y_test_pred = []\n",
        "  for i in range(0, len(y_test_prob)):\n",
        "    y_test_pred.append(np.argmax(y_test_prob[i]))\n",
        "  return y_test_pred"
      ],
      "metadata": {
        "id": "rIvbXHtVjHND"
      },
      "execution_count": null,
      "outputs": []
    },
    {
      "cell_type": "markdown",
      "source": [
        "## Finding X time for every Y time"
      ],
      "metadata": {
        "id": "xk-EYlmJPLjj"
      }
    },
    {
      "cell_type": "code",
      "source": [
        "def match_to_x_time(y_pred, sequence_len):\n",
        "  y_prediction = []\n",
        "  for i in range(len(y_pred)+sequence_len):\n",
        "    if i < sequence_len:\n",
        "      window = y_pred[0:i+1]\n",
        "      # print(len(window),i)\n",
        "      y_prediction.append(st.mode(window)[0][0])\n",
        "    elif i > (len(y_pred)+1):\n",
        "      window = y_pred[i-sequence_len:len(y_pred)+1]\n",
        "      # print(len(window),i)\n",
        "      y_prediction.append(st.mode(window)[0][0])\n",
        "    else:\n",
        "      window = y_pred[i-sequence_len+1:i+1]\n",
        "      # print(len(window),i)\n",
        "      y_prediction.append(st.mode(window)[0][0])\n",
        "  return y_prediction"
      ],
      "metadata": {
        "id": "qsWqp9z4j5rx"
      },
      "execution_count": null,
      "outputs": []
    },
    {
      "cell_type": "markdown",
      "source": [
        "## Downsampling to get prediction for each Y"
      ],
      "metadata": {
        "id": "twyaT5VPPXo4"
      }
    },
    {
      "cell_type": "code",
      "source": [
        "def down_sample(y_time, x_time, y_prediction):\n",
        "  out = []\n",
        "  for i in range(len(y_time)):\n",
        "      timestamp = y_time[i]\n",
        "      index = x_time.searchsorted(timestamp)\n",
        "      if index == len(x_time):\n",
        "          index = index - 1\n",
        "      out.append(y_prediction[index])\n",
        "  return out\n"
      ],
      "metadata": {
        "id": "wtTinJ2mlOEy"
      },
      "execution_count": null,
      "outputs": []
    },
    {
      "cell_type": "markdown",
      "source": [
        "## Saving Predictions to CSV"
      ],
      "metadata": {
        "id": "fG3NLiWiPdBi"
      }
    },
    {
      "cell_type": "code",
      "source": [
        "def save_to_csv(y_pred, name):\n",
        "    df = pd.DataFrame(y_pred)\n",
        "    df.to_csv(name, index=False, header=False)"
      ],
      "metadata": {
        "id": "kfYTkEXovEUO"
      },
      "execution_count": null,
      "outputs": []
    },
    {
      "cell_type": "markdown",
      "source": [
        "### Loading Test data from path"
      ],
      "metadata": {
        "id": "NJD3vTsnPrh2"
      }
    },
    {
      "cell_type": "code",
      "source": [
        "user = ['009', '010', '011', '012']\n",
        "prediction_path = \"/content/drive/MyDrive/NN_Comp_Pred_C3/subject_{}_01__y.csv\""
      ],
      "metadata": {
        "id": "GMI_QROKvYfX"
      },
      "execution_count": null,
      "outputs": []
    },
    {
      "cell_type": "code",
      "source": [
        "prediction_path.format(user[0])"
      ],
      "metadata": {
        "colab": {
          "base_uri": "https://localhost:8080/",
          "height": 35
        },
        "id": "oBWvJmiexFXj",
        "outputId": "51a6184d-8e09-4b0d-f527-4a6215e2e38e"
      },
      "execution_count": null,
      "outputs": [
        {
          "output_type": "execute_result",
          "data": {
            "text/plain": [
              "'/content/drive/MyDrive/NN_Comp_Pred_C3/subject_009_01__y.csv'"
            ],
            "application/vnd.google.colaboratory.intrinsic+json": {
              "type": "string"
            }
          },
          "metadata": {},
          "execution_count": 35
        }
      ]
    },
    {
      "cell_type": "code",
      "source": [
        "model = keras.models.load_model('bi_lstm_v1.keras')"
      ],
      "metadata": {
        "id": "vp90Atg8if1p"
      },
      "execution_count": null,
      "outputs": []
    },
    {
      "cell_type": "markdown",
      "source": [
        "## Final predictions for Test Data and saving to drive"
      ],
      "metadata": {
        "id": "NWGnK7IUPzzL"
      }
    },
    {
      "cell_type": "code",
      "source": [
        "for i in range(len(TEST_DATA)):\n",
        "  X_test = get_windowed_data_test(TEST_DATA[i], 80, 1)\n",
        "  y_test_prob = model.predict(X_test, verbose=1)\n",
        "  #y_test_prob.shape\n",
        "  y_pred = get_class_labels(y_test_prob)\n",
        "  y_matched = match_to_x_time(y_pred, 80)\n",
        "  #print((y_matched))\n",
        "  #print(len(TEST_DATA[i]))\n",
        "  y_test_pred = down_sample(TEST_TIME[i][0], TEST_DATA[i][6], y_matched)\n",
        "  save_to_csv(y_test_pred, prediction_path.format(user[i]))"
      ],
      "metadata": {
        "id": "7r-J2eG3dKyW"
      },
      "execution_count": null,
      "outputs": []
    },
    {
      "cell_type": "markdown",
      "source": [
        "## Loading prediction to verify output "
      ],
      "metadata": {
        "id": "jZ2JLU_LQYcJ"
      }
    },
    {
      "cell_type": "code",
      "source": [
        "df1 = pd.read_csv(\"/content/drive/MyDrive/NN_Comp_Pred_C3/subject_009_01__y.csv\")\n",
        "df1"
      ],
      "metadata": {
        "id": "RCkvKXHC-Ehn"
      },
      "execution_count": null,
      "outputs": []
    },
    {
      "cell_type": "code",
      "source": [
        "TEST_DATA[i][6]"
      ],
      "metadata": {
        "id": "qM_0RCuju7ku"
      },
      "execution_count": null,
      "outputs": []
    },
    {
      "cell_type": "code",
      "source": [
        "TEST_TIME[i][0]"
      ],
      "metadata": {
        "id": "AxESED6NzA6x"
      },
      "execution_count": null,
      "outputs": []
    },
    {
      "cell_type": "code",
      "source": [
        "index = TEST_DATA[i][6].searchsorted(TEST_TIME[i][0][len(TEST_TIME[i][0])-1])\n",
        "index"
      ],
      "metadata": {
        "id": "7_u0hYiIzKKK"
      },
      "execution_count": null,
      "outputs": []
    },
    {
      "cell_type": "code",
      "source": [
        "temp = TEST_DATA[0].iloc[:,:6]\n",
        "temp"
      ],
      "metadata": {
        "id": "IvrAMfKwhJO2"
      },
      "execution_count": null,
      "outputs": []
    }
  ]
}